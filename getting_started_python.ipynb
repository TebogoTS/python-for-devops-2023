{
  "nbformat": 4,
  "nbformat_minor": 0,
  "metadata": {
    "colab": {
      "provenance": [],
      "toc_visible": true,
      "authorship_tag": "ABX9TyNqM4a1OlpW575TWT3eDAJD",
      "include_colab_link": true
    },
    "kernelspec": {
      "name": "python3",
      "display_name": "Python 3"
    },
    "language_info": {
      "name": "python"
    }
  },
  "cells": [
    {
      "cell_type": "markdown",
      "metadata": {
        "id": "view-in-github",
        "colab_type": "text"
      },
      "source": [
        "<a href=\"https://colab.research.google.com/github/TebogoTS/python-for-devops-2023/blob/main/getting_started_python.ipynb\" target=\"_parent\"><img src=\"https://colab.research.google.com/assets/colab-badge.svg\" alt=\"Open In Colab\"/></a>"
      ]
    },
    {
      "cell_type": "markdown",
      "source": [
        "## Introduction to Python"
      ],
      "metadata": {
        "id": "CpiqiWlPActH"
      }
    },
    {
      "cell_type": "markdown",
      "source": [
        "### Statements in Python"
      ],
      "metadata": {
        "id": "1RrHDu3-CVw1"
      }
    },
    {
      "cell_type": "code",
      "source": [
        "print(\"Hello World!\")"
      ],
      "metadata": {
        "colab": {
          "base_uri": "https://localhost:8080/"
        },
        "id": "MvK3tTfUCVJZ",
        "outputId": "10c82f8b-6312-4f20-ee49-a4051f167d26"
      },
      "execution_count": null,
      "outputs": [
        {
          "output_type": "stream",
          "name": "stdout",
          "text": [
            "Hello World!\n"
          ]
        }
      ]
    },
    {
      "cell_type": "code",
      "source": [
        "name = \"Dave\"\n",
        "print(f\"Hello {name}\")"
      ],
      "metadata": {
        "colab": {
          "base_uri": "https://localhost:8080/"
        },
        "id": "CfsSdoUaDX77",
        "outputId": "31622a70-edf7-4f2e-f6a9-846fa8f214a8"
      },
      "execution_count": null,
      "outputs": [
        {
          "output_type": "stream",
          "name": "stdout",
          "text": [
            "Hello Dave\n"
          ]
        }
      ]
    },
    {
      "cell_type": "markdown",
      "source": [
        "### Datastructures: Lists and Dictionaries"
      ],
      "metadata": {
        "id": "W4S9CiMoD7q_"
      }
    },
    {
      "cell_type": "markdown",
      "source": [
        "#### List"
      ],
      "metadata": {
        "id": "EMR4GGdlTc98"
      }
    },
    {
      "cell_type": "code",
      "source": [
        "fruit = [\"apple\", \"pear\", \"strawberry\"]"
      ],
      "metadata": {
        "id": "dEEFWg81Ssya"
      },
      "execution_count": null,
      "outputs": []
    },
    {
      "cell_type": "code",
      "source": [
        "type(fruit)"
      ],
      "metadata": {
        "id": "YwWbjunmS5Cl",
        "outputId": "8b49e62f-af02-4081-d116-71fb3d3cf749",
        "colab": {
          "base_uri": "https://localhost:8080/"
        }
      },
      "execution_count": null,
      "outputs": [
        {
          "output_type": "execute_result",
          "data": {
            "text/plain": [
              "list"
            ]
          },
          "metadata": {},
          "execution_count": 5
        }
      ]
    },
    {
      "cell_type": "code",
      "source": [
        "fruit[0]"
      ],
      "metadata": {
        "id": "fMpPEwPGTEde",
        "outputId": "fd3a1635-51d5-47d9-cfe3-34378b506257",
        "colab": {
          "base_uri": "https://localhost:8080/",
          "height": 36
        }
      },
      "execution_count": null,
      "outputs": [
        {
          "output_type": "execute_result",
          "data": {
            "text/plain": [
              "'apple'"
            ],
            "application/vnd.google.colaboratory.intrinsic+json": {
              "type": "string"
            }
          },
          "metadata": {},
          "execution_count": 6
        }
      ]
    },
    {
      "cell_type": "code",
      "source": [
        "fruit[:-1]"
      ],
      "metadata": {
        "id": "I1sOsEnYTHr0",
        "outputId": "6134cb32-93ab-47fb-e86c-88a6c1d45882",
        "colab": {
          "base_uri": "https://localhost:8080/"
        }
      },
      "execution_count": null,
      "outputs": [
        {
          "output_type": "execute_result",
          "data": {
            "text/plain": [
              "['apple', 'pear']"
            ]
          },
          "metadata": {},
          "execution_count": 7
        }
      ]
    },
    {
      "cell_type": "code",
      "source": [
        "for my_fruit in fruit:\n",
        "  print(f\"This is my favorite fruit: {my_fruit}\")"
      ],
      "metadata": {
        "id": "wtj-HdyTTNhA",
        "outputId": "7348fcfc-1ba5-4708-9e29-e8470c25d68d",
        "colab": {
          "base_uri": "https://localhost:8080/"
        }
      },
      "execution_count": null,
      "outputs": [
        {
          "output_type": "stream",
          "name": "stdout",
          "text": [
            "This is my favorite fruit: apple\n",
            "This is my favorite fruit: pear\n",
            "This is my favorite fruit: strawberry\n"
          ]
        }
      ]
    },
    {
      "cell_type": "markdown",
      "source": [
        "#### Dictionary"
      ],
      "metadata": {
        "id": "Ur9oDV2aVc21"
      }
    },
    {
      "cell_type": "code",
      "source": [
        "meal = {\"breakfast\": \"black coffee\", \"lunch\": \"salad\", \"dinner\": \"rice and beans\"}"
      ],
      "metadata": {
        "id": "K4JQVVVMVhXY"
      },
      "execution_count": null,
      "outputs": []
    },
    {
      "cell_type": "code",
      "source": [
        "meal.keys()"
      ],
      "metadata": {
        "id": "nCQs6mGcV0kv",
        "outputId": "fe46b085-2f4b-4769-f29e-806ac4cbb5b4",
        "colab": {
          "base_uri": "https://localhost:8080/"
        }
      },
      "execution_count": null,
      "outputs": [
        {
          "output_type": "execute_result",
          "data": {
            "text/plain": [
              "dict_keys(['breakfast', 'lunch', 'dinner'])"
            ]
          },
          "metadata": {},
          "execution_count": 10
        }
      ]
    },
    {
      "cell_type": "code",
      "source": [
        "meal.values()"
      ],
      "metadata": {
        "id": "Cz5LnU7iV8rd",
        "outputId": "58831e58-2ea4-46fd-87b5-db43ba8f8ee7",
        "colab": {
          "base_uri": "https://localhost:8080/"
        }
      },
      "execution_count": null,
      "outputs": [
        {
          "output_type": "execute_result",
          "data": {
            "text/plain": [
              "dict_values(['black coffee', 'salad', 'rice and beans'])"
            ]
          },
          "metadata": {},
          "execution_count": 11
        }
      ]
    },
    {
      "cell_type": "code",
      "source": [
        "for meal_name, meal_item in meal.items():\n",
        "  print(f\"This meal {meal_name} is when I like to consume {meal_item}\" )"
      ],
      "metadata": {
        "id": "oX_B374YWCzA",
        "outputId": "7d389dbe-98f9-43e2-f299-320c1dd9a071",
        "colab": {
          "base_uri": "https://localhost:8080/"
        }
      },
      "execution_count": null,
      "outputs": [
        {
          "output_type": "stream",
          "name": "stdout",
          "text": [
            "This meal breakfast is when I like to consume black coffee\n",
            "This meal lunch is when I like to consume salad\n",
            "This meal dinner is when I like to consume rice and beans\n"
          ]
        }
      ]
    },
    {
      "cell_type": "markdown",
      "source": [
        "# Exercise Section"
      ],
      "metadata": {
        "id": "6894nmktxbmc"
      }
    },
    {
      "cell_type": "markdown",
      "source": [
        "Exercise: Display Discount"
      ],
      "metadata": {
        "id": "jp5gzdLgxPus"
      }
    },
    {
      "cell_type": "code",
      "source": [
        "product_desc = input('Enter product description:')"
      ],
      "metadata": {
        "id": "dmiFb4rUx1B-",
        "outputId": "376e15ba-424b-4f65-b1e3-e4e49d4f6f92",
        "colab": {
          "base_uri": "https://localhost:8080/"
        }
      },
      "execution_count": 1,
      "outputs": [
        {
          "name": "stdout",
          "output_type": "stream",
          "text": [
            "Enter product description:Pizza\n"
          ]
        }
      ]
    },
    {
      "cell_type": "code",
      "source": [
        "list_price = float(input(\"Enter product list price: R \"))"
      ],
      "metadata": {
        "id": "TVxMUAeMx838",
        "outputId": "93dee07b-12a8-4d06-ab77-21a99953ac82",
        "colab": {
          "base_uri": "https://localhost:8080/"
        }
      },
      "execution_count": 2,
      "outputs": [
        {
          "name": "stdout",
          "output_type": "stream",
          "text": [
            "Enter product list price: R 200\n"
          ]
        }
      ]
    },
    {
      "cell_type": "code",
      "source": [
        "discount_percent = int(input(\"Enter discount amount (i.e. 5) %: \"))"
      ],
      "metadata": {
        "id": "kGh99_9hzQkM",
        "outputId": "ff837147-0508-40c1-a94b-59e0e2dd6afb",
        "colab": {
          "base_uri": "https://localhost:8080/"
        }
      },
      "execution_count": 3,
      "outputs": [
        {
          "name": "stdout",
          "output_type": "stream",
          "text": [
            "Enter discount amount (i.e. 5) %: 10\n"
          ]
        }
      ]
    },
    {
      "cell_type": "code",
      "source": [
        "discount_price = float(list_price - (list_price * (discount_percent * .01)))"
      ],
      "metadata": {
        "id": "2FstiTQVzk6F"
      },
      "execution_count": 4,
      "outputs": []
    },
    {
      "cell_type": "code",
      "source": [
        "print(f\"Product Description: {product_desc}\")"
      ],
      "metadata": {
        "id": "hkWOBhZV0lNf",
        "outputId": "d48993f7-5b07-4be7-a3cb-93eac68c5df3",
        "colab": {
          "base_uri": "https://localhost:8080/"
        }
      },
      "execution_count": 5,
      "outputs": [
        {
          "output_type": "stream",
          "name": "stdout",
          "text": [
            "Product Description: Pizza\n"
          ]
        }
      ]
    },
    {
      "cell_type": "code",
      "source": [
        "print(f\"List Price: R{list_price}\")"
      ],
      "metadata": {
        "id": "s5Q8SXXU0ypH",
        "outputId": "e4509956-0e47-49e4-8276-214686b53f71",
        "colab": {
          "base_uri": "https://localhost:8080/"
        }
      },
      "execution_count": 6,
      "outputs": [
        {
          "output_type": "stream",
          "name": "stdout",
          "text": [
            "List Price: R200.0\n"
          ]
        }
      ]
    },
    {
      "cell_type": "code",
      "source": [
        "print(f\"Discount Amount: R{(list_price * (discount_percent * .01))}\")"
      ],
      "metadata": {
        "id": "OV3RYJJ907mT",
        "outputId": "53df1f5a-1292-4d5b-d31e-2e1b1b37ae7c",
        "colab": {
          "base_uri": "https://localhost:8080/"
        }
      },
      "execution_count": 7,
      "outputs": [
        {
          "output_type": "stream",
          "name": "stdout",
          "text": [
            "Discount Amount: R20.0\n"
          ]
        }
      ]
    },
    {
      "cell_type": "code",
      "source": [
        "print(f\"Discount Price: R{discount_price}\")"
      ],
      "metadata": {
        "id": "SvQofWSg1VY1",
        "outputId": "24bb223f-f8a2-4576-e2fe-9e0329e4b2d9",
        "colab": {
          "base_uri": "https://localhost:8080/"
        }
      },
      "execution_count": 8,
      "outputs": [
        {
          "output_type": "stream",
          "name": "stdout",
          "text": [
            "Discount Price: R180.0\n"
          ]
        }
      ]
    }
  ]
}